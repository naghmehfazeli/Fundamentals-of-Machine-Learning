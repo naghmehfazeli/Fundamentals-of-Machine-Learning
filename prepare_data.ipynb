{
 "cells": [
  {
   "cell_type": "markdown",
   "metadata": {},
   "source": [
    "# US Housing Market"
   ]
  },
  {
   "cell_type": "code",
   "execution_count": 1,
   "metadata": {
    "collapsed": true
   },
   "outputs": [],
   "source": [
    "import pandas as pd"
   ]
  },
  {
   "cell_type": "markdown",
   "metadata": {},
   "source": [
    "### 1) Load Population Dataset"
   ]
  },
  {
   "cell_type": "code",
   "execution_count": 2,
   "metadata": {
    "collapsed": false
   },
   "outputs": [
    {
     "name": "stdout",
     "output_type": "stream",
     "text": [
      "<class 'pandas.core.frame.DataFrame'>\n",
      "RangeIndex: 33119 entries, 0 to 33118\n",
      "Data columns (total 2 columns):\n",
      "population    33119 non-null int64\n",
      "zipcode       33119 non-null int64\n",
      "dtypes: int64(2)\n",
      "memory usage: 517.6 KB\n"
     ]
    }
   ],
   "source": [
    "population_columns = [\"population\", \"zipcode\"]\n",
    "population = pd.read_csv(\"data/population_by_zip_2010_filtered.csv\", usecols=population_columns)\n",
    "\n",
    "population.info()\n",
    "\n",
    "zip_code_columns = [\"zip_code\", \"city\", \"county\"]\n",
    "zip_codes = pd.read_csv(\"data/zip_codes_states.csv\", usecols=zip_code_columns)\n",
    "\n",
    "population = pd.merge(population, zip_codes, left_on='zipcode', right_on='zip_code')\n",
    "population = population.drop(columns=\"zip_code\")\n",
    "population = population.rename(columns={\"city\": \"City\", \"county\":\"County\"})"
   ]
  },
  {
   "cell_type": "markdown",
   "metadata": {},
   "source": [
    "### 2) Load Gross Rent Dataset"
   ]
  },
  {
   "cell_type": "code",
   "execution_count": 3,
   "metadata": {
    "collapsed": false
   },
   "outputs": [
    {
     "name": "stdout",
     "output_type": "stream",
     "text": [
      "<class 'pandas.core.frame.DataFrame'>\n",
      "RangeIndex: 40424 entries, 0 to 40423\n",
      "Data columns (total 11 columns):\n",
      "State_Name    40424 non-null object\n",
      "Place         40424 non-null object\n",
      "Zip_Code      40424 non-null int64\n",
      "ALand         40424 non-null int64\n",
      "AWater        40424 non-null int64\n",
      "Lat           40424 non-null float64\n",
      "Lon           40424 non-null float64\n",
      "Mean          40424 non-null int64\n",
      "Median        40424 non-null int64\n",
      "Stdev         40424 non-null int64\n",
      "Samples       40424 non-null int64\n",
      "dtypes: float64(2), int64(7), object(2)\n",
      "memory usage: 3.4+ MB\n"
     ]
    }
   ],
   "source": [
    "gross_rent_columns = [\"State_Name\", \"Place\", \"Zip_Code\", \"Lat\", \"Lon\", \"Mean\", \"Median\", \"Stdev\", \"Samples\", \"ALand\", \"AWater\"]\n",
    "gross_rent = pd.read_csv(\"data/gross_rent.csv\", usecols=gross_rent_columns)\n",
    "gross_rent.info()"
   ]
  },
  {
   "cell_type": "markdown",
   "metadata": {},
   "source": [
    "### 3) Merge `gross_rent` with `population` data"
   ]
  },
  {
   "cell_type": "code",
   "execution_count": 4,
   "metadata": {
    "collapsed": false
   },
   "outputs": [
    {
     "name": "stdout",
     "output_type": "stream",
     "text": [
      "<class 'pandas.core.frame.DataFrame'>\n",
      "Int64Index: 39513 entries, 0 to 39512\n",
      "Data columns (total 15 columns):\n",
      "State_Name    39513 non-null object\n",
      "Place         39513 non-null object\n",
      "Zip_Code      39513 non-null int64\n",
      "ALand         39513 non-null int64\n",
      "AWater        39513 non-null int64\n",
      "Lat           39513 non-null float64\n",
      "Lon           39513 non-null float64\n",
      "Mean          39513 non-null int64\n",
      "Median        39513 non-null int64\n",
      "Stdev         39513 non-null int64\n",
      "Samples       39513 non-null int64\n",
      "population    39513 non-null int64\n",
      "zipcode       39513 non-null int64\n",
      "City          39513 non-null object\n",
      "County        39513 non-null object\n",
      "dtypes: float64(2), int64(9), object(4)\n",
      "memory usage: 4.8+ MB\n"
     ]
    }
   ],
   "source": [
    "population_with_gross_rent = pd.merge(gross_rent, population, left_on='Zip_Code', right_on='zipcode')\n",
    "population_with_gross_rent.info()"
   ]
  },
  {
   "cell_type": "code",
   "execution_count": 5,
   "metadata": {
    "collapsed": false
   },
   "outputs": [
    {
     "name": "stdout",
     "output_type": "stream",
     "text": [
      "<class 'pandas.core.frame.DataFrame'>\n",
      "Int64Index: 39513 entries, 0 to 39512\n",
      "Data columns (total 14 columns):\n",
      "State_Name    39513 non-null object\n",
      "Place         39513 non-null object\n",
      "Zip_Code      39513 non-null int64\n",
      "ALand         39513 non-null int64\n",
      "AWater        39513 non-null int64\n",
      "Lat           39513 non-null float64\n",
      "Lon           39513 non-null float64\n",
      "Mean          39513 non-null int64\n",
      "Median        39513 non-null int64\n",
      "Stdev         39513 non-null int64\n",
      "Samples       39513 non-null int64\n",
      "Population    39513 non-null int64\n",
      "City          39513 non-null object\n",
      "County        39513 non-null object\n",
      "dtypes: float64(2), int64(8), object(4)\n",
      "memory usage: 4.5+ MB\n"
     ]
    }
   ],
   "source": [
    "# Harmonize dataset\n",
    "if 'population' in population_with_gross_rent.columns:\n",
    "    population_with_gross_rent.rename(columns={\"population\": \"Population\"}, inplace=True)\n",
    "if 'zipcode' in population_with_gross_rent.columns:\n",
    "    population_with_gross_rent.drop(columns='zipcode', inplace=True)\n",
    "population_with_gross_rent.info()"
   ]
  },
  {
   "cell_type": "markdown",
   "metadata": {},
   "source": [
    "### 4) Remove duplicate `zip-codes`. Keep the ones with the highest sample rate"
   ]
  },
  {
   "cell_type": "code",
   "execution_count": 6,
   "metadata": {
    "collapsed": false
   },
   "outputs": [
    {
     "name": "stdout",
     "output_type": "stream",
     "text": [
      "<class 'pandas.core.frame.DataFrame'>\n",
      "Int64Index: 16580 entries, 21071 to 15957\n",
      "Data columns (total 14 columns):\n",
      "State_Name    16580 non-null object\n",
      "Place         16580 non-null object\n",
      "Zip_Code      16580 non-null int64\n",
      "ALand         16580 non-null int64\n",
      "AWater        16580 non-null int64\n",
      "Lat           16580 non-null float64\n",
      "Lon           16580 non-null float64\n",
      "Mean          16580 non-null int64\n",
      "Median        16580 non-null int64\n",
      "Stdev         16580 non-null int64\n",
      "Samples       16580 non-null int64\n",
      "Population    16580 non-null int64\n",
      "City          16580 non-null object\n",
      "County        16580 non-null object\n",
      "dtypes: float64(2), int64(8), object(4)\n",
      "memory usage: 1.9+ MB\n"
     ]
    }
   ],
   "source": [
    "population_with_gross_rent_cleansed = population_with_gross_rent.sort_values(['Zip_Code', 'Samples'], ascending=False).drop_duplicates('Zip_Code')\n",
    "population_with_gross_rent_cleansed.info()"
   ]
  },
  {
   "cell_type": "markdown",
   "metadata": {},
   "source": [
    "### 5) Write results to file"
   ]
  },
  {
   "cell_type": "code",
   "execution_count": 7,
   "metadata": {
    "collapsed": false
   },
   "outputs": [
    {
     "data": {
      "text/plain": [
       "State_Name    AlaskaAlaskaAlaskaAlaskaAlaskaAlaskaAlaskaAlas...\n",
       "Place         Akutan cityHydaburg cityCraig cityCoffman Cove...\n",
       "Zip_Code                                              831961822\n",
       "ALand                                             2475821227900\n",
       "AWater                                             146093521605\n",
       "Lat                                                      635774\n",
       "Lon                                                -1.51245e+06\n",
       "Mean                                                   14844172\n",
       "Median                                                 14230267\n",
       "Stdev                                                   5343353\n",
       "Samples                                                15175198\n",
       "Population                                            270027419\n",
       "City          MetlakatlaHydaburgCraigCoffman CoveKetchikanSk...\n",
       "County        Prince Wales KetchikanPrince Wales KetchikanPr...\n",
       "dtype: object"
      ]
     },
     "execution_count": 7,
     "metadata": {},
     "output_type": "execute_result"
    }
   ],
   "source": [
    "population_with_gross_rent_cleansed.to_csv(\"data/gross_rent_with_population.csv\", index=False)\n",
    "population_with_gross_rent_cleansed.sum()"
   ]
  },
  {
   "cell_type": "code",
   "execution_count": 42,
   "metadata": {
    "collapsed": false
   },
   "outputs": [
    {
     "data": {
      "text/html": [
       "<div>\n",
       "<style scoped>\n",
       "    .dataframe tbody tr th:only-of-type {\n",
       "        vertical-align: middle;\n",
       "    }\n",
       "\n",
       "    .dataframe tbody tr th {\n",
       "        vertical-align: top;\n",
       "    }\n",
       "\n",
       "    .dataframe thead th {\n",
       "        text-align: right;\n",
       "    }\n",
       "</style>\n",
       "<table border=\"1\" class=\"dataframe\">\n",
       "  <thead>\n",
       "    <tr style=\"text-align: right;\">\n",
       "      <th></th>\n",
       "      <th></th>\n",
       "      <th>Zip_Code</th>\n",
       "      <th>ALand</th>\n",
       "      <th>AWater</th>\n",
       "      <th>Lat</th>\n",
       "      <th>Lon</th>\n",
       "      <th>Mean</th>\n",
       "      <th>Median</th>\n",
       "      <th>Stdev</th>\n",
       "      <th>Samples</th>\n",
       "      <th>Population</th>\n",
       "    </tr>\n",
       "    <tr>\n",
       "      <th>State_Name</th>\n",
       "      <th>County</th>\n",
       "      <th></th>\n",
       "      <th></th>\n",
       "      <th></th>\n",
       "      <th></th>\n",
       "      <th></th>\n",
       "      <th></th>\n",
       "      <th></th>\n",
       "      <th></th>\n",
       "      <th></th>\n",
       "      <th></th>\n",
       "    </tr>\n",
       "  </thead>\n",
       "  <tbody>\n",
       "    <tr>\n",
       "      <th>California</th>\n",
       "      <th>Alameda</th>\n",
       "      <td>14566173</td>\n",
       "      <td>1044365031</td>\n",
       "      <td>186578639</td>\n",
       "      <td>5802.743872</td>\n",
       "      <td>-18795.438359</td>\n",
       "      <td>246775</td>\n",
       "      <td>241270</td>\n",
       "      <td>86625</td>\n",
       "      <td>230835</td>\n",
       "      <td>5973766</td>\n",
       "    </tr>\n",
       "  </tbody>\n",
       "</table>\n",
       "</div>"
      ],
      "text/plain": [
       "                    Zip_Code       ALand     AWater          Lat  \\\n",
       "State_Name County                                                  \n",
       "California Alameda  14566173  1044365031  186578639  5802.743872   \n",
       "\n",
       "                             Lon    Mean  Median  Stdev  Samples  Population  \n",
       "State_Name County                                                             \n",
       "California Alameda -18795.438359  246775  241270  86625   230835     5973766  "
      ]
     },
     "execution_count": 42,
     "metadata": {},
     "output_type": "execute_result"
    }
   ],
   "source": [
    "population_with_gross_rent[population_with_gross_rent.County=='Alameda'].groupby([\"State_Name\", \"County\"]).sum()"
   ]
  },
  {
   "cell_type": "code",
   "execution_count": null,
   "metadata": {
    "collapsed": true
   },
   "outputs": [],
   "source": []
  }
 ],
 "metadata": {
  "kernelspec": {
   "display_name": "Python 3",
   "language": "python",
   "name": "python3"
  },
  "language_info": {
   "codemirror_mode": {
    "name": "ipython",
    "version": 3
   },
   "file_extension": ".py",
   "mimetype": "text/x-python",
   "name": "python",
   "nbconvert_exporter": "python",
   "pygments_lexer": "ipython3",
   "version": "3.6.1"
  }
 },
 "nbformat": 4,
 "nbformat_minor": 2
}
